{
 "cells": [
  {
   "cell_type": "markdown",
   "metadata": {},
   "source": [
    "this project will be to analyze the comments on every chapter of against the gods from 1 to 1450 to see which chapters are the best/controversial/most engaging (assuming number of comments on a chapter means its better/controversial/more engaging). \n",
    "\n",
    "thoughts: normalize and clean data based on growth of popularity of series? or see which arcs are most popular, based on engagement rates on a weekly basis?"
   ]
  },
  {
   "cell_type": "code",
   "execution_count": 89,
   "metadata": {},
   "outputs": [],
   "source": [
    "from bs4 import BeautifulSoup\n",
    "import requests\n",
    "import time\n",
    "\n"
   ]
  },
  {
   "cell_type": "code",
   "execution_count": 132,
   "metadata": {},
   "outputs": [
    {
     "name": "stdout",
     "output_type": "stream",
     "text": [
      "0\n"
     ]
    }
   ],
   "source": [
    "from selenium import webdriver\n",
    "\n",
    "from selenium.webdriver.common.by import By\n",
    "from selenium.webdriver.support.ui import WebDriverWait #makes it wait\n",
    "from selenium.webdriver.support import expected_conditions as EC #waits until condition met\n",
    "from selenium.common.exceptions import TimeoutException #if neither wait nor condition met, throw exception\n",
    "from selenium.common.exceptions import NoSuchElementException\n",
    "\n",
    "chrome_path = r'/Users/thomas/Downloads/chromedriver'\n",
    "driver = webdriver.Chrome(chrome_path)\n",
    "try:\n",
    "    driver.get('https://www.wuxiaworld.com/novel/against-the-gods/atg-chapter-1043')\n",
    "    driver.execute_script(\"window.scrollTo(0, document.body.scrollHeight);\") #scroll to bottom of page \n",
    "    time.sleep(3) #3 second wait while number of reviews load\n",
    "    comments = driver.find_element_by_id(\"comments\").text.split()[0]\n",
    "    print(comments)#get only the number of comments\n",
    "    driver.quit() #close selenium tab\n",
    "except NoSuchElementException: #testing this here it messed up on chapter 1043 and 1044 in final data collection\n",
    "    comments = 0\n",
    "    print(comments)\n",
    "    driver.quit()\n"
   ]
  },
  {
   "cell_type": "code",
   "execution_count": 91,
   "metadata": {},
   "outputs": [],
   "source": [
    "source = requests.get(\"https://www.wuxiaworld.com/novel/against-the-gods/atg-chapter-1\").text\n",
    "soup = BeautifulSoup(source, \"html5lib\")"
   ]
  },
  {
   "cell_type": "code",
   "execution_count": 92,
   "metadata": {},
   "outputs": [
    {
     "name": "stdout",
     "output_type": "stream",
     "text": [
      "1\n",
      "\n",
      "06/13/2015\n",
      "\n"
     ]
    }
   ],
   "source": [
    "chapter = soup.find('div', class_='panel panel-default').h4.text.split()[1]\n",
    "print(chapter)\n",
    "print('')\n",
    "\n",
    "#commentCount = soup.find('div', {'id':'comments'}).h4.text\n",
    "#print(commentCount)\n",
    "#this is javascript dynamic loaded text from users, so gotta use selenium\n",
    "\n",
    "date = soup.find('meta', property='article:published_time')[\"content\"].split()[0]\n",
    "print(date)\n",
    "print('')\n"
   ]
  },
  {
   "cell_type": "markdown",
   "metadata": {},
   "source": [
    "ok now we have all 3 elements, we can now write them to a csv"
   ]
  },
  {
   "cell_type": "code",
   "execution_count": 93,
   "metadata": {},
   "outputs": [
    {
     "data": {
      "text/html": [
       "<div>\n",
       "<style scoped>\n",
       "    .dataframe tbody tr th:only-of-type {\n",
       "        vertical-align: middle;\n",
       "    }\n",
       "\n",
       "    .dataframe tbody tr th {\n",
       "        vertical-align: top;\n",
       "    }\n",
       "\n",
       "    .dataframe thead th {\n",
       "        text-align: right;\n",
       "    }\n",
       "</style>\n",
       "<table border=\"1\" class=\"dataframe\">\n",
       "  <thead>\n",
       "    <tr style=\"text-align: right;\">\n",
       "      <th></th>\n",
       "      <th>chapter</th>\n",
       "      <th>comments</th>\n",
       "      <th>date</th>\n",
       "    </tr>\n",
       "  </thead>\n",
       "  <tbody>\n",
       "    <tr>\n",
       "      <th>0</th>\n",
       "      <td>1</td>\n",
       "      <td>80</td>\n",
       "      <td>06/13/2015</td>\n",
       "    </tr>\n",
       "  </tbody>\n",
       "</table>\n",
       "</div>"
      ],
      "text/plain": [
       "   chapter  comments        date\n",
       "0        1        80  06/13/2015"
      ]
     },
     "execution_count": 93,
     "metadata": {},
     "output_type": "execute_result"
    }
   ],
   "source": [
    "import csv\n",
    "import pandas as pd\n",
    "#write to csv now\n",
    "#all this should be before the for loop\n",
    "#csv_file = open('atg_comment_data.csv', 'w')\n",
    "\n",
    "#csv_writer = csv.write(csv_file)\n",
    "#csv_writer.writerow(['chapter', 'comments', 'date']) #creating header row\n",
    "\n",
    "#ok now at the end of the for loop\n",
    "#actually writing the data in cells\n",
    "#csv_writer.writerow([chapter, comments, date])\n",
    "\n",
    "#ok NOW outside of the loop, close the file\n",
    "#csv_file.close()\n",
    "\n",
    "\n",
    "with open('atg_comment_data.csv', 'w') as new_file:\n",
    "    csv_writer = csv.writer(new_file)\n",
    "\n",
    "    #header row\n",
    "    #this needs to be outside of loop\n",
    "    csv_writer.writerow(['chapter', 'comments','date']) \n",
    "    \n",
    "    \n",
    "    #for data in totaldata:\n",
    "    #this is inside loop\n",
    "    csv_writer.writerow([chapter, comments, date])\n",
    "   \n",
    "    #then outside of loop, close the file\n",
    "    #new_file.close()\n",
    "    \n",
    "df = pd.read_csv('atg_comment_data.csv')\n",
    "df.head()"
   ]
  },
  {
   "cell_type": "markdown",
   "metadata": {},
   "source": [
    "ok sweet, test complete now we can run the actual data"
   ]
  },
  {
   "cell_type": "code",
   "execution_count": 139,
   "metadata": {},
   "outputs": [],
   "source": [
    "from bs4 import BeautifulSoup\n",
    "import requests\n",
    "import time\n",
    "\n",
    "from selenium import webdriver\n",
    "from selenium.webdriver.common.by import By\n",
    "from selenium.webdriver.support.ui import WebDriverWait #makes it wait\n",
    "from selenium.webdriver.support import expected_conditions as EC #waits until condition met\n",
    "from selenium.common.exceptions import TimeoutException #if neither wait nor condition met, throw exception\n",
    "from selenium.common.exceptions import TimeoutException #if neither wait nor condition met, throw exception\n",
    "from selenium.common.exceptions import NoSuchElementException #added this after it messed up in chap.1043\n",
    "\n",
    "with open('atg_comment_data.csv', 'w') as new_file:\n",
    "    csv_writer = csv.writer(new_file)\n",
    "\n",
    "    #header row\n",
    "    #this needs to be outside of loop\n",
    "    csv_writer.writerow(['chapter', 'comments','date']) \n",
    "    \n",
    "    for page in range(1040, 1049):\n",
    "        url = \"https://www.wuxiaworld.com/novel/against-the-gods/atg-chapter-\" + str(page)\n",
    "        \n",
    "        chrome_path = r'/Users/thomas/Downloads/chromedriver'\n",
    "        driver = webdriver.Chrome(chrome_path)\n",
    "        \n",
    "        driver.set_page_load_timeout(5)\n",
    "        try:\n",
    "            driver.get(url)\n",
    "            driver.execute_script(\"window.scrollTo(0, document.body.scrollHeight);\") #scroll to bottom of page \n",
    "            time.sleep(1) #waits x seconds while number of reviews load\n",
    "            comments = driver.find_element_by_id('comments').text.split()[0] \n",
    "            driver.quit() #close selenium tab\n",
    "        except (NoSuchElementException, TypeError, TimeoutException):\n",
    "            comments = 0\n",
    "            driver.quit()\n",
    "        \n",
    "        source = requests.get(url).text\n",
    "        soup = BeautifulSoup(source, \"html5lib\")\n",
    "  \n",
    "        try:\n",
    "            chapter = soup.find('div', class_='panel panel-default').h4.text.split()[1]\n",
    "            date = soup.find('meta', property='article:published_time')[\"content\"].split()[0]\n",
    "        except TypeError:\n",
    "            chapter = 0\n",
    "            date = 0\n",
    "        \n",
    "        csv_writer.writerow([chapter, comments, date])\n",
    "    \n",
    "    new_file.close()"
   ]
  },
  {
   "cell_type": "markdown",
   "metadata": {},
   "source": [
    "now to clean the data, display it, and visualize it"
   ]
  },
  {
   "cell_type": "code",
   "execution_count": null,
   "metadata": {},
   "outputs": [],
   "source": [
    "import pandas as pd\n",
    "\n",
    "data1 = pd.read_csv(\"atg_comment_data1.csv\") \n",
    "data2 = pd.read_csv(\"atg_comment_data2.csv\") \n",
    "\n",
    "\n",
    "# Get names of indexes for which column Age has value 30\n",
    "#indexNames = dfObj[ dfObj['Age'] == 30 ].index #dfObj is name of the dataframe\n",
    "# Delete these row indexes from dataFrame\n",
    "#dfObj.drop(indexNames , inplace=True)\n",
    "\n",
    "#indexNames = data2[ data2['comments'] == Commenting ].index\n",
    "#data2.drop(indexNames, inplace=True)\n",
    "#print(data2)\n",
    "final = data1.append(data2)\n",
    "\n",
    "from matplotlib import pyplot as plt\n",
    "from matplotlib import style\n",
    "\n",
    "plt.plot(data1.chapter, data1.comments)\n",
    "plt.show()"
   ]
  },
  {
   "cell_type": "code",
   "execution_count": null,
   "metadata": {},
   "outputs": [],
   "source": []
  }
 ],
 "metadata": {
  "kernelspec": {
   "display_name": "Python 3",
   "language": "python",
   "name": "python3"
  },
  "language_info": {
   "codemirror_mode": {
    "name": "ipython",
    "version": 3
   },
   "file_extension": ".py",
   "mimetype": "text/x-python",
   "name": "python",
   "nbconvert_exporter": "python",
   "pygments_lexer": "ipython3",
   "version": "3.7.3"
  }
 },
 "nbformat": 4,
 "nbformat_minor": 2
}
